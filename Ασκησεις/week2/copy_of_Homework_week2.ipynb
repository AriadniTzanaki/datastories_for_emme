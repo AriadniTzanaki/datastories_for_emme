{
  "nbformat": 4,
  "nbformat_minor": 0,
  "metadata": {
    "colab": {
      "provenance": [],
      "include_colab_link": true
    },
    "kernelspec": {
      "name": "python3",
      "display_name": "Python 3"
    },
    "language_info": {
      "name": "python"
    }
  },
  "cells": [
    {
      "cell_type": "markdown",
      "metadata": {
        "id": "view-in-github",
        "colab_type": "text"
      },
      "source": [
        "<a href=\"https://colab.research.google.com/github/AriadniTzanaki/datastories_for_emme/blob/main/%CE%91%CF%83%CE%BA%CE%B7%CF%83%CE%B5%CE%B9%CF%82/week2/copy_of_Homework_week2.ipynb\" target=\"_parent\"><img src=\"https://colab.research.google.com/assets/colab-badge.svg\" alt=\"Open In Colab\"/></a>"
      ]
    },
    {
      "cell_type": "markdown",
      "source": [
        "**Άσκηση 1**\n",
        "\n",
        "1. Σε ένα νέο κελί κώδικα, ξαναγράψτε τον παρακάτω κώδικα, έτσι ώστε να τρέχει χωρίς να πετάει error."
      ],
      "metadata": {
        "id": "RNY03X7pKHnf"
      }
    },
    {
      "cell_type": "code",
      "source": [
        "my name = \"Vasilis\"\n",
        "my-email = bill2005@example.com\n",
        "myAM_4first#digits = 9983\n",
        "2FavoriteMovies = \"Life of Bryan,\" + \" The meaning of life\""
      ],
      "metadata": {
        "id": "1duhjtEIKNJx"
      },
      "execution_count": null,
      "outputs": []
    },
    {
      "cell_type": "code",
      "source": [
        "myName = \"Ariadni\"\n",
        "myEmail = \"ariadnitzan@gmail.com\"\n",
        "myAM_4firstdigits = 9983\n",
        "TwoFavouriteMovies = \"divergent\",\"Avengers\""
      ],
      "metadata": {
        "id": "vYF7_r0EUswU"
      },
      "execution_count": 1,
      "outputs": []
    },
    {
      "cell_type": "markdown",
      "source": [
        "2. Tυπώστε (print) τον τύπο δεδομένων καθεμιάς από τις παραπάνω μεταβλητές"
      ],
      "metadata": {
        "id": "uWOJYGCtPaS8"
      }
    },
    {
      "cell_type": "code",
      "source": [
        "print (myName, myEmail, myAM_4firstdigits, TwoFavouriteMovies )"
      ],
      "metadata": {
        "id": "Y3Orkp9JW_3A",
        "outputId": "aa12c149-5c2f-4843-e7d1-81f0e01d360c",
        "colab": {
          "base_uri": "https://localhost:8080/"
        }
      },
      "execution_count": null,
      "outputs": [
        {
          "output_type": "stream",
          "name": "stdout",
          "text": [
            "Ariadni ariadnitzan@gmail.com 9983 ('divergent', 'Avengers')\n"
          ]
        }
      ]
    },
    {
      "cell_type": "markdown",
      "source": [
        "**Άσκηση 2**\n",
        "- Βρείτε ένα άρθρο σε ένα ειδησεογραφικό site.\n",
        "- Φτιάξτε ένα νέο κελί κώδικα (ή όσα θέλετε) ακριβώς κάτω από αυτό και δημιουργήστε μεταβλητές με τα εξής στοιχεία:\n",
        "  - Τίτλος άρθρου\n",
        "  - Ημερομηνία δημοσίευσης\n",
        "  - Όνομα site\n",
        "  - url άρθρου\n",
        "- Τυπώστε (print) μια πρόταση της μορφής: Το άρθρο τάδε δημοσιεύτηκε στο τάδε site την τάδε ημερομηνία και βρίσκεται στην τάδε ηλεκτρονική διεύθυνση."
      ],
      "metadata": {
        "id": "iKYSWrCOLxwA"
      }
    },
    {
      "cell_type": "code",
      "source": [
        "title = \"Ο Μητσοτάκης για Μόσχα:Μένουμε απέναντι στην ωμή βία\"\n",
        "date= \"23/3/2024\"\n",
        "nameSite = \"news24/7\"\n",
        "url= \"https://www.news247.gr/politiki/mitsotakis-gia-mosxa-menoume-apenanti-stin-omi-via-eimaste-me-ti-dimokratia/\"\n",
        "a= \"Το άρθρο\"\n",
        "c= \"δημοσιεύτηκε στο\"\n",
        "d= \"στις\"\n",
        "e= \"και βρίσκεται στην ηλεκτρονική διεύθυνση\"\n",
        "print (a,title,c,nameSite,d,date,e,url)"
      ],
      "metadata": {
        "id": "fWM-UekjZs4v",
        "outputId": "388c341b-1abf-46b5-9103-61723a777f85",
        "colab": {
          "base_uri": "https://localhost:8080/"
        }
      },
      "execution_count": null,
      "outputs": [
        {
          "output_type": "stream",
          "name": "stdout",
          "text": [
            "Το άρθρο Ο Μητσοτάκης για Μόσχα:Μένουμε απέναντι στην ωμή βία δημοσιεύτηκε στο news24/7 στις 23/3/2024 και βρίσκεται στην ηλεκτρονική διεύθυνση https://www.news247.gr/politiki/mitsotakis-gia-mosxa-menoume-apenanti-stin-omi-via-eimaste-me-ti-dimokratia/\n"
          ]
        }
      ]
    },
    {
      "cell_type": "markdown",
      "source": [
        "**Άσκηση 3**\n",
        "\n",
        "Σε ένα νέο κελί, μετατρέψτε τον τύπο της μεταβλητής ή των μεταβλητών που απαιτείται, έτσι ώστε να μπορεί να εκτελεστεί σωστά η παρακάτω πράξη:\n",
        "\n",
        "(μην γράψετε σωστά την τιμή της/τους - αλλάξτε τον τύπο δεδομένων)\n",
        "(Tip: κάνετε copy-paste τις 2 τελευταίες γραμμές και κάνετε τη διόρθωση που απαιτείται στην προτελευταία γραμμή)"
      ],
      "metadata": {
        "id": "pklY5u3eQKLZ"
      }
    },
    {
      "cell_type": "code",
      "source": [
        "monthly_rent = \"300\"\n",
        "months = 12\n",
        "yearly_rent= monthly_rent * months\n",
        "print(yearly_rent)"
      ],
      "metadata": {
        "colab": {
          "base_uri": "https://localhost:8080/"
        },
        "id": "aLfDQbayNkVd",
        "outputId": "6e9df2bc-7475-4507-c224-22adaf9ae3b0"
      },
      "execution_count": 4,
      "outputs": [
        {
          "output_type": "stream",
          "name": "stdout",
          "text": [
            "300300300300300300300300300300300300\n"
          ]
        }
      ]
    },
    {
      "cell_type": "code",
      "source": [
        "yearly_rent = (int(monthly_rent) * months)\n",
        "print(yearly_rent)"
      ],
      "metadata": {
        "colab": {
          "base_uri": "https://localhost:8080/"
        },
        "outputId": "71ad23ba-32db-4a2a-edbf-7268b4205516",
        "id": "WbQTZWYL8cFS"
      },
      "execution_count": 6,
      "outputs": [
        {
          "output_type": "stream",
          "name": "stdout",
          "text": [
            "3600\n"
          ]
        }
      ]
    },
    {
      "cell_type": "markdown",
      "source": [
        "**Άσκηση 4**\n",
        "\n",
        "1. Βρείτε το αποτέλεσμα της πρόσθεσης του 132 με το 13 και τυπώστε το σαν string (σε μία γραμμή κώδικα)\n",
        "2. Βρείτε το τετράγωνο του πηλίκου της διαίρεσης του παραπάνω αθροίσματος με το υπόλοιπο της διαίρεσης του 132 με το 13 και τυπώστε το σαν δεκαδικό (σε μια γραμμή κώδικα)\n",
        "\n",
        "Tip: μπορείτε να κάνετε μία-μία τις πράξεις ώστε να ελέγχετε ότι το αποτέλεσμα της καθεμίας είναι σωστό και στο τέλος να βάλετε όλες τις εντολές σε μία γραμμή (αναγκαστικά θα υπάρχουν πολλές παρενθέσεις)"
      ],
      "metadata": {
        "id": "4-MexfUhUJr5"
      }
    },
    {
      "cell_type": "code",
      "source": [
        "print(str(132+ 13))"
      ],
      "metadata": {
        "colab": {
          "base_uri": "https://localhost:8080/"
        },
        "id": "MzSuJgGOCwdO",
        "outputId": "13dac590-6bd6-4009-c927-7f9c6bb0240e"
      },
      "execution_count": null,
      "outputs": [
        {
          "output_type": "stream",
          "name": "stdout",
          "text": [
            "145\n"
          ]
        }
      ]
    },
    {
      "cell_type": "code",
      "source": [
        "print (float(145//(132%13))**2)"
      ],
      "metadata": {
        "colab": {
          "base_uri": "https://localhost:8080/"
        },
        "id": "_PBRdmVpF7VH",
        "outputId": "df7f0ab3-d08c-4f09-8cda-a28cc1293bf1"
      },
      "execution_count": 8,
      "outputs": [
        {
          "output_type": "stream",
          "name": "stdout",
          "text": [
            "5184.0\n"
          ]
        }
      ]
    },
    {
      "cell_type": "markdown",
      "source": [
        "**Άσκηση 5**\n",
        "\n",
        "Γράψτε μια γραμμή κώδικα κάτω από το παρακάτω κελί, έτσι ώστε κάθε φορά που θα το τρέχετε, να τυπώνετε (print) η τιμή της μεταβητής counter αυξημένη κατά 1."
      ],
      "metadata": {
        "id": "i9uTmCdLa1F6"
      }
    },
    {
      "cell_type": "code",
      "source": [
        "counter = 1"
      ],
      "metadata": {
        "id": "-Y0-XA9CbNFw"
      },
      "execution_count": 14,
      "outputs": []
    },
    {
      "cell_type": "code",
      "source": [
        "# γράψτε τη ζητούμενη εντολή ακριβώς κάτω από τα σχόλια και πριν την εντολή print(counter)\n",
        "# και τρέξτε το κελί 5-6 φορές\n",
        "# κάθε φορά που το τρέχετε, θα πρέπει ο αριθμός που τυπώνεται να είναι μεγαλύτερος από τον προηγούμενο κατά 1\n",
        "counter += 1\n",
        "print(counter)"
      ],
      "metadata": {
        "id": "LkXxdJgUbvkQ",
        "colab": {
          "base_uri": "https://localhost:8080/"
        },
        "outputId": "6288fb50-8aa8-449b-ac33-47e98144dfb8"
      },
      "execution_count": 28,
      "outputs": [
        {
          "output_type": "stream",
          "name": "stdout",
          "text": [
            "3\n"
          ]
        }
      ]
    }
  ]
}