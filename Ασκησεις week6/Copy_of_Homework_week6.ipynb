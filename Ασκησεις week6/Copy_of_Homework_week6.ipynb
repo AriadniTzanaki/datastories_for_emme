{
  "nbformat": 4,
  "nbformat_minor": 0,
  "metadata": {
    "colab": {
      "provenance": [],
      "include_colab_link": true
    },
    "kernelspec": {
      "name": "python3",
      "display_name": "Python 3"
    },
    "language_info": {
      "name": "python"
    }
  },
  "cells": [
    {
      "cell_type": "markdown",
      "metadata": {
        "id": "view-in-github",
        "colab_type": "text"
      },
      "source": [
        "<a href=\"https://colab.research.google.com/github/AriadniTzanaki/datastories_for_emme/blob/main/%CE%91%CF%83%CE%BA%CE%B7%CF%83%CE%B5%CE%B9%CF%82%20week6/Copy_of_Homework_week6.ipynb\" target=\"_parent\"><img src=\"https://colab.research.google.com/assets/colab-badge.svg\" alt=\"Open In Colab\"/></a>"
      ]
    },
    {
      "cell_type": "markdown",
      "source": [
        "### **ΑΣΚΗΣΗ 1**"
      ],
      "metadata": {
        "id": "jEj3sBix0ek8"
      }
    },
    {
      "cell_type": "code",
      "execution_count": 2,
      "metadata": {
        "colab": {
          "base_uri": "https://localhost:8080/"
        },
        "id": "_-r7xOeSwbp-",
        "outputId": "2e100117-da86-4bb8-b822-46b87ba7dc93"
      },
      "outputs": [
        {
          "output_type": "stream",
          "name": "stdout",
          "text": [
            "το a είναι 5\n",
            "το b είναι 4\n"
          ]
        }
      ],
      "source": [
        "a = 5\n",
        "b = 4\n",
        "print(\"το a είναι\", a)\n",
        "print(\"το b είναι\", b)"
      ]
    },
    {
      "cell_type": "code",
      "source": [
        "b = b+3\n",
        "print(\"τώρα το b είναι\", b)"
      ],
      "metadata": {
        "colab": {
          "base_uri": "https://localhost:8080/"
        },
        "id": "goC-RPzAse1v",
        "outputId": "2b52968a-abef-47e1-d351-17f3f93b86e0"
      },
      "execution_count": 3,
      "outputs": [
        {
          "output_type": "stream",
          "name": "stdout",
          "text": [
            "τώρα το b είναι 7\n"
          ]
        }
      ]
    },
    {
      "cell_type": "code",
      "source": [
        "b += 2            # μπορώ να αυξήσω την τιμή μιας μεταβλητής και με αυτό τη σύνταξη\n",
        "print(\"τώρα το b είναι\", b)"
      ],
      "metadata": {
        "colab": {
          "base_uri": "https://localhost:8080/"
        },
        "id": "NHVykmq2zuue",
        "outputId": "d2f14b09-4b90-48c7-a2ba-445596b49ac5"
      },
      "execution_count": 4,
      "outputs": [
        {
          "output_type": "stream",
          "name": "stdout",
          "text": [
            "τώρα το b είναι 9\n"
          ]
        }
      ]
    },
    {
      "cell_type": "markdown",
      "source": [
        "- **Φτιάξτε μια αριθμητική μεταβλητή (integer) με όνομα c και τιμή έναν αριθμό από το 6 έως το 9**\n",
        "- **Τυπώστε (print) την τιμή της μεταβλητής c που ορίσατε, με σχετικό κείμενο, όπως παραπάνω**"
      ],
      "metadata": {
        "id": "vrysOR_tEN44"
      }
    },
    {
      "cell_type": "code",
      "source": [
        "c= 8\n",
        "print(\"Το c είναι\", c)"
      ],
      "metadata": {
        "id": "k6eEgWCzEwPs",
        "outputId": "965e5881-1982-45f6-829e-df2eb8412510",
        "colab": {
          "base_uri": "https://localhost:8080/"
        }
      },
      "execution_count": 5,
      "outputs": [
        {
          "output_type": "stream",
          "name": "stdout",
          "text": [
            "Το c είναι 8\n"
          ]
        }
      ]
    },
    {
      "cell_type": "markdown",
      "source": [
        "- **Αλλάξτε την τιμή της μεταβλητής c στο διπλάσιο της τιμής που ορίσατε αρχικά**\n",
        "- **Τυπώστε τη νέα τιμή της μεταβλητής**"
      ],
      "metadata": {
        "id": "5xlBfOottBte"
      }
    },
    {
      "cell_type": "code",
      "source": [
        "c= 8*2\n",
        "print('τώρα το c είναι', c)"
      ],
      "metadata": {
        "id": "I4vBZpxftK6m",
        "outputId": "469cf83c-3e45-49ab-f1dd-a4d365cd443d",
        "colab": {
          "base_uri": "https://localhost:8080/"
        }
      },
      "execution_count": 6,
      "outputs": [
        {
          "output_type": "stream",
          "name": "stdout",
          "text": [
            "τώρα το c είναι 16\n"
          ]
        }
      ]
    },
    {
      "cell_type": "markdown",
      "source": [
        "\n",
        "\n",
        "---\n",
        "\n"
      ],
      "metadata": {
        "id": "ASR9DZaEsBiL"
      }
    },
    {
      "cell_type": "markdown",
      "source": [
        "### **ΑΣΚΗΣΗ 2**"
      ],
      "metadata": {
        "id": "uGUtlPiJ1nSi"
      }
    },
    {
      "cell_type": "code",
      "source": [
        "suma = a+b\n",
        "print(\"το άθροισμα των a και b είναι\", suma)\n",
        "product = a*b\n",
        "print(\"το γινόμενο a επί b είναι\", product)\n",
        "quotient = a/b\n",
        "print(f\"το πηλίκο της διαίρεσης του {a} με το {b} είναι {quotient}\")"
      ],
      "metadata": {
        "colab": {
          "base_uri": "https://localhost:8080/"
        },
        "id": "926DS0vdwqwV",
        "outputId": "1f4553cd-e863-452d-bbe7-d31bf3196d46"
      },
      "execution_count": 7,
      "outputs": [
        {
          "output_type": "stream",
          "name": "stdout",
          "text": [
            "το άθροισμα των a και b είναι 14\n",
            "το γινόμενο a επί b είναι 45\n",
            "το πηλίκο της διαίρεσης του 5 με το 9 είναι 0.5555555555555556\n"
          ]
        }
      ]
    },
    {
      "cell_type": "markdown",
      "source": [
        "- **Αποθηκεύστε σε μια μεταβλητή τη διαφορά των αριθμών a και c**\n",
        "- **Αποθηκεύστε σε μια μεταβλητή το υπόλοιπο της διαίρεσης του c με το b**\n",
        "- **Τυπώστε τις τιμές των μεταβλητών που δημιουργήσατε, με σχετικό κείμενο, όπως παραπάνω**"
      ],
      "metadata": {
        "id": "mzlXeQyFFfxH"
      }
    },
    {
      "cell_type": "code",
      "source": [
        "diafora= c-a\n",
        "ypoloipo= c%b\n",
        "print('Η διαφορά a με c είναι',diafora)\n",
        "print('Το υπόλοιπο της διαίρεσης του c με το b είναι',ypoloipo)"
      ],
      "metadata": {
        "id": "evBe8lcmVA_8",
        "colab": {
          "base_uri": "https://localhost:8080/"
        },
        "outputId": "0f8d4129-81e8-4be3-c038-53912a68bfa1"
      },
      "execution_count": 8,
      "outputs": [
        {
          "output_type": "stream",
          "name": "stdout",
          "text": [
            "Η διαφορά a με c είναι 11\n",
            "Το υπόλοιπο της διαίρεσης του c με το b είναι 7\n"
          ]
        }
      ]
    },
    {
      "cell_type": "markdown",
      "source": [
        "\n",
        "\n",
        "---\n",
        "\n"
      ],
      "metadata": {
        "id": "s6LWZFYhsHA7"
      }
    },
    {
      "cell_type": "markdown",
      "source": [
        "### **ΑΣΚΗΣΗ 3**"
      ],
      "metadata": {
        "id": "GOumWdJj11nY"
      }
    },
    {
      "cell_type": "code",
      "source": [
        "numbers_list = [1, 2, 3, 4, 6, 7, 8]\n",
        "print(numbers_list)\n",
        "numbers_list_length = len(numbers_list)\n",
        "print(f'το πλήθος των αντικειμένων της λίστας \"numbers_list\" είναι {numbers_list_length}')"
      ],
      "metadata": {
        "colab": {
          "base_uri": "https://localhost:8080/"
        },
        "id": "oQgBTQzqzInd",
        "outputId": "dea8822c-e7f8-4a7a-8c8a-d37f1b7e703e"
      },
      "execution_count": 9,
      "outputs": [
        {
          "output_type": "stream",
          "name": "stdout",
          "text": [
            "[1, 2, 3, 4, 6, 7, 8]\n",
            "το πλήθος των αντικειμένων της λίστας \"numbers_list\" είναι 7\n"
          ]
        }
      ]
    },
    {
      "cell_type": "code",
      "source": [
        "numbers_list.append(10)\n",
        "print(numbers_list)"
      ],
      "metadata": {
        "colab": {
          "base_uri": "https://localhost:8080/"
        },
        "id": "cl_73BGIzOii",
        "outputId": "c130be35-93fb-44be-8dad-f2b86632450c"
      },
      "execution_count": 10,
      "outputs": [
        {
          "output_type": "stream",
          "name": "stdout",
          "text": [
            "[1, 2, 3, 4, 6, 7, 8, 10]\n"
          ]
        }
      ]
    },
    {
      "cell_type": "code",
      "source": [
        "list1 = [1, 2]\n",
        "list2 = [99, 100]\n",
        "list1 = list1 + list2\n",
        "print(list1)"
      ],
      "metadata": {
        "colab": {
          "base_uri": "https://localhost:8080/"
        },
        "id": "42T49mK8Avqr",
        "outputId": "142cdd88-2317-4db0-a586-74b3d04bcbf7"
      },
      "execution_count": 11,
      "outputs": [
        {
          "output_type": "stream",
          "name": "stdout",
          "text": [
            "[1, 2, 99, 100]\n"
          ]
        }
      ]
    },
    {
      "cell_type": "markdown",
      "source": [
        "- **Δημιουργήστε μια κενή λίστα και προσθέστε σε αυτή (με append) τις μεταβλητές a, b και c**\n",
        "- **Τυπώστε τα περιεχόμενα της λίστας και το πλήθος τους**\n",
        "- **Αλλάξτε τη μεταβλητή numbers_list, έτσι ώστε τώρα να περιλαμβάνει και τα αντικείμενα της νέας λίστας που μόλις δημιουργήσατε** (Tip: ο ευκολότερος τρόπος είναι να προσθέσετε τις 2 λίστες και να αποθηκεύσετε το αποτέλεσμα στη μεταβλητή numbers_list)\n",
        "- **Τυπώστε τα περιεχόμενα και το πλήθος των περιεχομένων της λίστας numbers_list**"
      ],
      "metadata": {
        "id": "7SjkzOBVY3sB"
      }
    },
    {
      "cell_type": "code",
      "source": [
        "List1=[]\n",
        "List1.append(a)\n",
        "List1.append(b)\n",
        "List1.append(c)\n",
        "print(List1)\n",
        "print(len(List1))\n",
        "numbers_list=numbers_list + List1\n",
        "print(numbers_list)\n",
        "print(len(numbers_list))"
      ],
      "metadata": {
        "id": "LCcJNqSksPi9",
        "colab": {
          "base_uri": "https://localhost:8080/"
        },
        "outputId": "d2acf872-71cf-4a7a-816a-7a6405808848"
      },
      "execution_count": 12,
      "outputs": [
        {
          "output_type": "stream",
          "name": "stdout",
          "text": [
            "[5, 9, 16]\n",
            "3\n",
            "[1, 2, 3, 4, 6, 7, 8, 10, 5, 9, 16]\n",
            "11\n"
          ]
        }
      ]
    },
    {
      "cell_type": "markdown",
      "source": [
        "\n",
        "\n",
        "---\n",
        "\n"
      ],
      "metadata": {
        "id": "E9-raYWVsOcB"
      }
    },
    {
      "cell_type": "markdown",
      "source": [
        "### **ΑΣΚΗΣΗ 4**"
      ],
      "metadata": {
        "id": "nl9pKBS43laa"
      }
    },
    {
      "cell_type": "code",
      "source": [
        "print(f'το πρώτο αντικείμενο της λίστας \"numbers_list\" είναι το {numbers_list[0]}')"
      ],
      "metadata": {
        "colab": {
          "base_uri": "https://localhost:8080/"
        },
        "id": "ZcWA_gmQ1AUy",
        "outputId": "8760a8d1-d340-427a-c7a8-3637eb6ca342"
      },
      "execution_count": 13,
      "outputs": [
        {
          "output_type": "stream",
          "name": "stdout",
          "text": [
            "το πρώτο αντικείμενο της λίστας \"numbers_list\" είναι το 1\n"
          ]
        }
      ]
    },
    {
      "cell_type": "code",
      "source": [
        "print(f'το τρίτο αντικείμενο της λίστας \"numbers_list\" είναι το {numbers_list[2]}')"
      ],
      "metadata": {
        "colab": {
          "base_uri": "https://localhost:8080/"
        },
        "id": "ZjqpobJ43QUo",
        "outputId": "437e4ffd-c323-41e7-97cd-d40ffe1a8d45"
      },
      "execution_count": 14,
      "outputs": [
        {
          "output_type": "stream",
          "name": "stdout",
          "text": [
            "το τρίτο αντικείμενο της λίστας \"numbers_list\" είναι το 3\n"
          ]
        }
      ]
    },
    {
      "cell_type": "markdown",
      "source": [
        "- **Τυπώστε το προτελευταίο αντικείμενο της νέας λίστας numbers_list**\n",
        "\n"
      ],
      "metadata": {
        "id": "7ytguAXCVp5g"
      }
    },
    {
      "cell_type": "code",
      "source": [
        "print(f'το προτελευταίο αντικείμενο της \"sumaL\" είναι το {numbers_list[-2]}')"
      ],
      "metadata": {
        "id": "-WjmqPzI3Ycd",
        "colab": {
          "base_uri": "https://localhost:8080/"
        },
        "outputId": "85b6099d-afc6-4b6a-8cd2-13a85caf2d30"
      },
      "execution_count": 15,
      "outputs": [
        {
          "output_type": "stream",
          "name": "stdout",
          "text": [
            "το προτελευταίο αντικείμενο της \"sumaL\" είναι το 9\n"
          ]
        }
      ]
    },
    {
      "cell_type": "markdown",
      "source": [
        "- **Τυπώστε τη λίστα numbers_list**"
      ],
      "metadata": {
        "id": "4KA08ACewHoo"
      }
    },
    {
      "cell_type": "code",
      "source": [
        "print(numbers_list)"
      ],
      "metadata": {
        "id": "eJ5yO8Ev6dIP",
        "colab": {
          "base_uri": "https://localhost:8080/"
        },
        "outputId": "c7a84723-80c0-4197-e63b-d38e7c51b7c6"
      },
      "execution_count": 16,
      "outputs": [
        {
          "output_type": "stream",
          "name": "stdout",
          "text": [
            "[1, 2, 3, 4, 6, 7, 8, 10, 5, 9, 16]\n"
          ]
        }
      ]
    },
    {
      "cell_type": "markdown",
      "source": [
        "Μπορώ να ταξινομήσω τα περιεχόμενα μιας λίστας σε αύξουσα σειρά με το sort()"
      ],
      "metadata": {
        "id": "I28tplG46pdw"
      }
    },
    {
      "cell_type": "code",
      "source": [
        "sample_list = [33, 14, 82, 25, 67]\n",
        "sample_list.sort()\n",
        "print(sample_list)"
      ],
      "metadata": {
        "colab": {
          "base_uri": "https://localhost:8080/"
        },
        "id": "2-mlLUdY4jkl",
        "outputId": "35fd318c-13d4-47fd-d293-92ed071fa2a9"
      },
      "execution_count": 17,
      "outputs": [
        {
          "output_type": "stream",
          "name": "stdout",
          "text": [
            "[14, 25, 33, 67, 82]\n"
          ]
        }
      ]
    },
    {
      "cell_type": "markdown",
      "source": [
        "**Note**: το sort() αποθηκεύει αυτόματα την αλλαγή. Δηλαδή **δεν** χρειάζεται να γράψουμε:\n",
        "\n",
        "\n",
        "```\n",
        "sample_list = sample_list.sort()\n",
        "```\n",
        "\n",
        "Δουλεύει ακριβώς όπως και το append(). Γράφουμε:\n",
        "\n",
        "\n",
        "```\n",
        "numbers_list.append(10)\n",
        "```\n",
        "και όχι:\n",
        "\n",
        "\n",
        "```\n",
        "numbers_list = numbers_list.append(10)\n",
        "```\n",
        "\n",
        "\n",
        "\n",
        "\n",
        "\n",
        "\n"
      ],
      "metadata": {
        "id": "33hPoqT37xZB"
      }
    },
    {
      "cell_type": "markdown",
      "source": [
        "- **Ταξινομήστε σε αύξουσα σειρά τα περιεχόμενα της λίστας numbers_list**\n",
        "- **Τυπώστε τα περιεχόμενα της number_list**"
      ],
      "metadata": {
        "id": "7MRCOD5XB4e7"
      }
    },
    {
      "cell_type": "code",
      "source": [
        "numbers_list.sort()\n",
        "print(numbers_list)"
      ],
      "metadata": {
        "id": "wuEuQWvtCEXi",
        "colab": {
          "base_uri": "https://localhost:8080/"
        },
        "outputId": "044ac4c7-1d07-448b-eba4-080bd66831b5"
      },
      "execution_count": 18,
      "outputs": [
        {
          "output_type": "stream",
          "name": "stdout",
          "text": [
            "[1, 2, 3, 4, 5, 6, 7, 8, 9, 10, 16]\n"
          ]
        }
      ]
    },
    {
      "cell_type": "markdown",
      "source": [
        "Μπορώ να πάρω ένα κομμάτι μιας λίστας, ορίζοντας το index του πρώτου αντικειμένου και το index του επόμενου από το τελευταίο που θέλουμε:"
      ],
      "metadata": {
        "id": "DayGoEEgQ66A"
      }
    },
    {
      "cell_type": "code",
      "source": [
        "print(f'ολόκληρη η λίστα \"sample_list: {sample_list}')\n",
        "print(f'τα 2 πρώτα αντικείμενα της λίστας \"sample_list\": {sample_list[:2]}')"
      ],
      "metadata": {
        "colab": {
          "base_uri": "https://localhost:8080/"
        },
        "id": "KYNe8EpUSNZZ",
        "outputId": "98ffcb54-7e6a-4c21-a915-50acae5576e2"
      },
      "execution_count": 19,
      "outputs": [
        {
          "output_type": "stream",
          "name": "stdout",
          "text": [
            "ολόκληρη η λίστα \"sample_list: [14, 25, 33, 67, 82]\n",
            "τα 2 πρώτα αντικείμενα της λίστας \"sample_list\": [14, 25]\n"
          ]
        }
      ]
    },
    {
      "cell_type": "markdown",
      "source": [
        "- **Τυπώστε τα 2 τελευταία αντικείμενα της λίστας sample_list**"
      ],
      "metadata": {
        "id": "5eo2BkuOTg0F"
      }
    },
    {
      "cell_type": "code",
      "source": [
        "print(f'τα 2 τελευταία αντικείμενα της λίστας \"sample_list\": {sample_list[-2:]}')"
      ],
      "metadata": {
        "id": "cOwxCp_USoz-",
        "colab": {
          "base_uri": "https://localhost:8080/"
        },
        "outputId": "dc7ed848-6985-4fdc-ad34-d46303c221d7"
      },
      "execution_count": 20,
      "outputs": [
        {
          "output_type": "stream",
          "name": "stdout",
          "text": [
            "τα 2 τελευταία αντικείμενα της λίστας \"sample_list\": [67, 82]\n"
          ]
        }
      ]
    },
    {
      "cell_type": "markdown",
      "source": [
        "\n",
        "\n",
        "---\n",
        "\n"
      ],
      "metadata": {
        "id": "1VVxO_EFsUPD"
      }
    },
    {
      "cell_type": "markdown",
      "source": [
        "### **ΑΣΚΗΣΗ 5**"
      ],
      "metadata": {
        "id": "De9G6JSkLidH"
      }
    },
    {
      "cell_type": "markdown",
      "source": [
        "- **Τρέξτε το παρακάτω κελί**"
      ],
      "metadata": {
        "id": "jZ5S2Zbeqgsi"
      }
    },
    {
      "cell_type": "code",
      "source": [
        "doubles_list = []\n",
        "for i in numbers_list:\n",
        "  double = i*2\n",
        "  doubles_list.append(double)\n",
        "print(doubles_list)"
      ],
      "metadata": {
        "colab": {
          "base_uri": "https://localhost:8080/"
        },
        "id": "VZHei7Gco3Oq",
        "outputId": "5e6bfd76-d4a1-4c5b-c30a-24649e2f27ae"
      },
      "execution_count": 21,
      "outputs": [
        {
          "output_type": "stream",
          "name": "stdout",
          "text": [
            "[2, 4, 6, 8, 10, 12, 14, 16, 18, 20, 32]\n"
          ]
        }
      ]
    },
    {
      "cell_type": "markdown",
      "source": [
        "- **Γράψτε σε ένα κελί κειμένου, τι κάνει ο παραπάνω κώδικας**"
      ],
      "metadata": {
        "id": "_r88DWBBrpeg"
      }
    },
    {
      "cell_type": "markdown",
      "source": [
        "Φτιάχνει μια καινούργια κενή λίστα\n",
        "Μετά λέει: για κάθε αριθμό που συναντάς στη λίστα numbers_list να τον διπλασιάζεις, ορίζοντας μια τιμή με το όνομα double.\n",
        "Στη συνέχεια στην κενη νεα λιστα προσθετει το double και τυπωνει.\n",
        "Στο αποτέλεσμα βλέπουμε τις τιμές της numbers_list να έχουν διπλασιαστει όλες\n"
      ],
      "metadata": {
        "id": "RB2GYqzPnkQ-"
      }
    },
    {
      "cell_type": "markdown",
      "source": [
        "- **Φτιάξτε μια λούπα που θα υπολογίζει το τριπλάσιο κάθε αριθμού της λίστας numbers_list και θα το αποθηκεύει σε μια νέα λίστα triples_list**"
      ],
      "metadata": {
        "id": "cZbM_IbNoxbO"
      }
    },
    {
      "cell_type": "code",
      "source": [
        "triples_list= []\n",
        "for e in numbers_list:\n",
        "  triple=e*3\n",
        "  triples_list.append(triple)\n",
        "print(triples_list)"
      ],
      "metadata": {
        "id": "lNsgkFjJ2oeC",
        "colab": {
          "base_uri": "https://localhost:8080/"
        },
        "outputId": "0bb5e4a7-89fd-4538-e45b-aff4da151806"
      },
      "execution_count": 22,
      "outputs": [
        {
          "output_type": "stream",
          "name": "stdout",
          "text": [
            "[3, 6, 9, 12, 15, 18, 21, 24, 27, 30, 48]\n"
          ]
        }
      ]
    },
    {
      "cell_type": "markdown",
      "source": [
        "\n",
        "\n",
        "---\n",
        "\n"
      ],
      "metadata": {
        "id": "62JQILqI2pfz"
      }
    },
    {
      "cell_type": "markdown",
      "source": [
        "### **ΑΣΚΗΣΗ 6**"
      ],
      "metadata": {
        "id": "yBY0ITh5MXD9"
      }
    },
    {
      "cell_type": "code",
      "source": [
        "for num in numbers_list:   # για κάθε αριθμό στη numbers_list\n",
        "  if num % 2 == 0:         # αν το υπόλοιπο της διαίρεσης του εκάστοτε αριθμού με το 2 ισούται με 0\n",
        "    print(f\"το {num} είναι ζυγός αριθμός\")    # τύπωσε ο αριθμός αυτός είναι ζυγός\n",
        "  else:                                       # αλλιώς\n",
        "    print(f\"το {num} είναι μονός αριθμός\")    # τύπωσε ο αριθμός αυτός είναι μονός"
      ],
      "metadata": {
        "colab": {
          "base_uri": "https://localhost:8080/"
        },
        "id": "8v539cby2qyq",
        "outputId": "6572faed-c9d4-40c1-f9ff-8480c3207921"
      },
      "execution_count": 23,
      "outputs": [
        {
          "output_type": "stream",
          "name": "stdout",
          "text": [
            "το 1 είναι μονός αριθμός\n",
            "το 2 είναι ζυγός αριθμός\n",
            "το 3 είναι μονός αριθμός\n",
            "το 4 είναι ζυγός αριθμός\n",
            "το 5 είναι μονός αριθμός\n",
            "το 6 είναι ζυγός αριθμός\n",
            "το 7 είναι μονός αριθμός\n",
            "το 8 είναι ζυγός αριθμός\n",
            "το 9 είναι μονός αριθμός\n",
            "το 10 είναι ζυγός αριθμός\n",
            "το 16 είναι ζυγός αριθμός\n"
          ]
        }
      ]
    },
    {
      "cell_type": "markdown",
      "source": [
        "- **Φτιάξτε ένα προγραμματάκι που θα κάνει τα εξής:**\n",
        "  - **θα τρέχει για όλους τους αριθμούς που βρίσκονται στις λίστες με τα διπλάσια και τα τριπλάσια**\n",
        "  - **θα βάζει τους ζυγούς αριθμούς σε μια λίστα even_numbers_list**\n",
        "  - **θα βάζει τους μονούς αριθμούς σε μια λίστα odd_numbers_list**\n",
        "  - **Τέλος (εκτός λούπας), θα σορτάρει τις λίστες με τους μονούς και τους ζυγούς αριθμούς και θα τις τυπώνει**\n",
        "\n",
        "(Tip: ενώστε τις λίστες με τα διπλάσια και τα τριπλάσια, ώστε μία μόνο λούπα να είναι αρκετή)"
      ],
      "metadata": {
        "id": "MA0h5w3mMoG1"
      }
    },
    {
      "cell_type": "code",
      "source": [
        "allL= doubles_list + triples_list\n",
        "even_numbers_list=[]\n",
        "odd_numbers_list=[]\n",
        "for a in allL:\n",
        "  if a % 2 == 0:\n",
        "    even_numbers_list.append(a)\n",
        "  else:\n",
        "    odd_numbers_list.append(a)\n",
        "even_numbers_list.sort()\n",
        "odd_numbers_list.sort()\n",
        "print(even_numbers_list)\n",
        "print(odd_numbers_list)"
      ],
      "metadata": {
        "id": "r9hgIPBMC9p-",
        "colab": {
          "base_uri": "https://localhost:8080/"
        },
        "outputId": "fd57915a-d088-4bde-ef52-49ef86df213c"
      },
      "execution_count": 30,
      "outputs": [
        {
          "output_type": "stream",
          "name": "stdout",
          "text": [
            "[2, 4, 6, 6, 8, 10, 12, 12, 14, 16, 18, 18, 20, 24, 30, 32, 48]\n",
            "[3, 9, 15, 21, 27]\n"
          ]
        }
      ]
    },
    {
      "cell_type": "markdown",
      "source": [
        "\n",
        "\n",
        "---\n",
        "\n"
      ],
      "metadata": {
        "id": "1VtFSHYlXSGq"
      }
    },
    {
      "cell_type": "markdown",
      "source": [
        "### **ΑΣΚΗΣΗ 7**"
      ],
      "metadata": {
        "id": "8s3IXFTyX7kj"
      }
    },
    {
      "cell_type": "markdown",
      "source": [
        "Μπορώ να ελέγχω αν ένα αντικείμενο είναι μέσα σε μια λίστα:"
      ],
      "metadata": {
        "id": "KqzOM7C3XYYu"
      }
    },
    {
      "cell_type": "code",
      "source": [
        "sample_list"
      ],
      "metadata": {
        "colab": {
          "base_uri": "https://localhost:8080/"
        },
        "id": "UBxjytpdza33",
        "outputId": "6af37583-9e47-4117-b4f3-f0b5df9e4d48"
      },
      "execution_count": null,
      "outputs": [
        {
          "output_type": "execute_result",
          "data": {
            "text/plain": [
              "[14, 25, 33, 67, 82]"
            ]
          },
          "metadata": {},
          "execution_count": 13
        }
      ]
    },
    {
      "cell_type": "code",
      "source": [
        "14 in sample_list"
      ],
      "metadata": {
        "colab": {
          "base_uri": "https://localhost:8080/"
        },
        "id": "GeRgnegPXWBb",
        "outputId": "b937cb42-444e-4b03-deb3-01e6925b28d2"
      },
      "execution_count": null,
      "outputs": [
        {
          "output_type": "execute_result",
          "data": {
            "text/plain": [
              "True"
            ]
          },
          "metadata": {},
          "execution_count": 14
        }
      ]
    },
    {
      "cell_type": "code",
      "source": [
        "15 in sample_list"
      ],
      "metadata": {
        "colab": {
          "base_uri": "https://localhost:8080/"
        },
        "id": "tnn8ngm5YA0F",
        "outputId": "cba2e0e5-8f7a-4000-fc79-1a1b21f603b1"
      },
      "execution_count": null,
      "outputs": [
        {
          "output_type": "execute_result",
          "data": {
            "text/plain": [
              "False"
            ]
          },
          "metadata": {},
          "execution_count": 15
        }
      ]
    },
    {
      "cell_type": "markdown",
      "source": [
        "Ομοίως, μπορώ να ελέγχω αν ένας χαρακτήρας είναι μέσα σε ένα string:"
      ],
      "metadata": {
        "id": "76MRnFVaYHxa"
      }
    },
    {
      "cell_type": "code",
      "source": [
        "\"ε\" in \"Θοδωρής\""
      ],
      "metadata": {
        "colab": {
          "base_uri": "https://localhost:8080/"
        },
        "id": "8K7NPbsJYQ61",
        "outputId": "f467534d-773f-4dd5-c180-b600c82aacd2"
      },
      "execution_count": null,
      "outputs": [
        {
          "output_type": "execute_result",
          "data": {
            "text/plain": [
              "False"
            ]
          },
          "metadata": {},
          "execution_count": 16
        }
      ]
    },
    {
      "cell_type": "code",
      "source": [
        "name = \"Θοδωρής Παρασκευάς\"\n",
        "\" \" in name"
      ],
      "metadata": {
        "colab": {
          "base_uri": "https://localhost:8080/"
        },
        "id": "mzzDQfLbYXqY",
        "outputId": "3c610ee3-5b44-40a4-9db1-b930e8a0a5c4"
      },
      "execution_count": null,
      "outputs": [
        {
          "output_type": "execute_result",
          "data": {
            "text/plain": [
              "True"
            ]
          },
          "metadata": {},
          "execution_count": 17
        }
      ]
    },
    {
      "cell_type": "markdown",
      "source": [
        "**Έχουμε μια λίστα με urls και emails**"
      ],
      "metadata": {
        "id": "X1YvpTHi6G3Y"
      }
    },
    {
      "cell_type": "code",
      "source": [
        "List = [\"https://reporter.gr\", \"mitsos@gmail.com\", \"https://cnn.gr\", \"annak@gmail.com\"]"
      ],
      "metadata": {
        "id": "nGo9YbS_6SWu"
      },
      "execution_count": 39,
      "outputs": []
    },
    {
      "cell_type": "markdown",
      "source": [
        "- **Γράψτε έναν κώδικα που θα λουπάρει σε όλα τα αντικείμενα της λίστας List.**\n",
        "\n",
        "- **Αν το αντικείμενο είναι url, θα το βάζει σε μια λίστα για urls. Αν το αντικείμενο είναι email, θα το βάζει σε μια λίστα για emails.**\n",
        "- **Τυπώστε τα περιεχόμενα των λιστών με τα urls και τα emails**\n",
        "\n",
        "(**Tips**: χρειάζεται να φτιάξετε:\n",
        "- τις δύο λίστες στις οποίες θα μπαίνουν τα αντικείμενα, - μια for loop που θα λουπάρει σε όλα τα αντικείμενα της List\n",
        "- μια δομή if/else που θα τσεκάρει αν το εκάστοτε αντικείμενο είναι url ή email\n",
        "- πρέπει να βρείτε **πώς** θα αναγνωρίζετε αν το εκάστοτε αντικείμενο είναι url ή email)"
      ],
      "metadata": {
        "id": "5mKG_4Qf6kV2"
      }
    },
    {
      "cell_type": "code",
      "source": [
        "urls_list = []\n",
        "emails_list = []\n",
        "for item in List:\n",
        "    if \"https\" in item:\n",
        "        urls_list.append(item)\n",
        "    else:\n",
        "        emails_list.append(item)\n",
        "print(urls_list)\n",
        "print(emails_list)\n"
      ],
      "metadata": {
        "id": "cWIwN7_RzmnT",
        "colab": {
          "base_uri": "https://localhost:8080/"
        },
        "outputId": "070e6a84-6bdd-4180-f3d0-358720304676"
      },
      "execution_count": 43,
      "outputs": [
        {
          "output_type": "stream",
          "name": "stdout",
          "text": [
            "['https://reporter.gr', 'https://cnn.gr']\n",
            "['mitsos@gmail.com', 'annak@gmail.com']\n"
          ]
        }
      ]
    },
    {
      "cell_type": "markdown",
      "source": [
        "\n",
        "\n",
        "---\n",
        "\n"
      ],
      "metadata": {
        "id": "em5ttb1PZ26h"
      }
    },
    {
      "cell_type": "markdown",
      "source": [
        "### **ΑΣΚΗΣΗ 8**"
      ],
      "metadata": {
        "id": "G1Nargg-Z1dJ"
      }
    },
    {
      "cell_type": "markdown",
      "source": [
        "Μπορώ να χωρίσω τις λέξεις ενός string, βάσει του χαρακτήρα που τις χωρίζει, με το split(). Το αποτέλεσμα είναι μια λίστα με τις λέξεις."
      ],
      "metadata": {
        "id": "IPLiLqpya4nw"
      }
    },
    {
      "cell_type": "code",
      "source": [
        "title = \"Πανεπιστήμιο Αιγαίου\"\n",
        "title_words = title.split(\" \") # ο χαρακτήρας που χωρίζει τις λέξεις είναι το κενό\n",
        "for w in title_words:\n",
        "  print(w)"
      ],
      "metadata": {
        "colab": {
          "base_uri": "https://localhost:8080/"
        },
        "id": "8reKl30DbpL6",
        "outputId": "47e76189-f5de-488e-e693-03d389390061"
      },
      "execution_count": null,
      "outputs": [
        {
          "output_type": "stream",
          "name": "stdout",
          "text": [
            "Πανεπιστήμιο\n",
            "Αιγαίου\n"
          ]
        }
      ]
    },
    {
      "cell_type": "code",
      "source": [
        "title_words"
      ],
      "metadata": {
        "colab": {
          "base_uri": "https://localhost:8080/"
        },
        "id": "PJKlNAiTrj5Z",
        "outputId": "39889613-2578-499d-b6e5-de43ee32cd55"
      },
      "execution_count": null,
      "outputs": [
        {
          "output_type": "execute_result",
          "data": {
            "text/plain": [
              "['Πανεπιστήμιο', 'Αιγαίου']"
            ]
          },
          "metadata": {},
          "execution_count": 20
        }
      ]
    },
    {
      "cell_type": "markdown",
      "source": [
        "Αφού το title_words είναι λίστα, μπορώ να ζητήσω ένα αντικείμενό της με τον αριθμό του index αυτού του αντικειμένου και να το αποθηκεύσω σε μια μεταβλητή"
      ],
      "metadata": {
        "id": "tKr364-AdEC7"
      }
    },
    {
      "cell_type": "code",
      "source": [
        "last_word = title_words[1]\n",
        "last_word"
      ],
      "metadata": {
        "colab": {
          "base_uri": "https://localhost:8080/",
          "height": 35
        },
        "id": "iWF9B1DScKEN",
        "outputId": "16d2178c-b964-4054-a612-fb946fbffecf"
      },
      "execution_count": null,
      "outputs": [
        {
          "output_type": "execute_result",
          "data": {
            "text/plain": [
              "'Αιγαίου'"
            ],
            "application/vnd.google.colaboratory.intrinsic+json": {
              "type": "string"
            }
          },
          "metadata": {},
          "execution_count": 21
        }
      ]
    },
    {
      "cell_type": "markdown",
      "source": [
        "Ομοίως, μπορώ να ζητήσω έναν χαρακτήρα ενός string με τον αριθμό του index αυτού του χαρακτήρα"
      ],
      "metadata": {
        "id": "j4dz7ldcdqh7"
      }
    },
    {
      "cell_type": "code",
      "source": [
        "last_word[-1] # ζητάω τον τελευταίο χαρακτήρα"
      ],
      "metadata": {
        "colab": {
          "base_uri": "https://localhost:8080/",
          "height": 35
        },
        "id": "ahA9ChhyeC3J",
        "outputId": "c6ebe67c-b311-4b51-897f-9a1f4fb58331"
      },
      "execution_count": null,
      "outputs": [
        {
          "output_type": "execute_result",
          "data": {
            "text/plain": [
              "'υ'"
            ],
            "application/vnd.google.colaboratory.intrinsic+json": {
              "type": "string"
            }
          },
          "metadata": {},
          "execution_count": 22
        }
      ]
    },
    {
      "cell_type": "markdown",
      "source": [
        "Μπορώ να ελέγξω αν το τελευταίο γράμμα είναι ένα συγκεκριμένο γράμμα"
      ],
      "metadata": {
        "id": "KB6bTkebqQAp"
      }
    },
    {
      "cell_type": "code",
      "source": [
        "last_word[-1] == \"Υ\"\n",
        "# με μονό ίσον (=) ορίζω κάτι να είναι ίσον με κάτι (π.χ. a = 5)\n",
        "# με διπλό ίσον (==) ελέγχω αν κάτι είναι ίσον με κάτι άλλο"
      ],
      "metadata": {
        "colab": {
          "base_uri": "https://localhost:8080/"
        },
        "id": "DJLJxs8TqklU",
        "outputId": "8c4ebbb4-3ddb-47bf-95e8-76065ed70155"
      },
      "execution_count": null,
      "outputs": [
        {
          "output_type": "execute_result",
          "data": {
            "text/plain": [
              "False"
            ]
          },
          "metadata": {},
          "execution_count": 23
        }
      ]
    },
    {
      "cell_type": "markdown",
      "source": [
        "Μπορώ να ζητήσω ένα μέρος ενός string"
      ],
      "metadata": {
        "id": "xIJndb2Je41Z"
      }
    },
    {
      "cell_type": "code",
      "source": [
        "last_word[:-1] # από την αρχή έως και το προτελευταίο γράμμα"
      ],
      "metadata": {
        "colab": {
          "base_uri": "https://localhost:8080/",
          "height": 35
        },
        "id": "PS4jOpYxfA8q",
        "outputId": "0027ac32-c09a-4bca-d4a2-d5da050315a4"
      },
      "execution_count": null,
      "outputs": [
        {
          "output_type": "execute_result",
          "data": {
            "text/plain": [
              "'Αιγαίο'"
            ],
            "application/vnd.google.colaboratory.intrinsic+json": {
              "type": "string"
            }
          },
          "metadata": {},
          "execution_count": 24
        }
      ]
    },
    {
      "cell_type": "markdown",
      "source": [
        "**Θέλουμε να φτιάξουμε ένα αυτοματοποιημένο, αλλά προσωποποιημένο απαντητικό email, ανάλογα με το επίθετο του παραλήπτη.**"
      ],
      "metadata": {
        "id": "S79ap7gBlVZ2"
      }
    },
    {
      "cell_type": "markdown",
      "source": [
        "- **Δίνονται τα παρακάτω ονόματα:**"
      ],
      "metadata": {
        "id": "NL4n28HnabRp"
      }
    },
    {
      "cell_type": "code",
      "source": [
        "names = [\"Κώστας Μουρλάς\", \"Κατερίνα Σωτηράκου\", \"Θοδωρής Παρασκευάς\"]"
      ],
      "metadata": {
        "id": "lhRKi1dPCdSM"
      },
      "execution_count": 32,
      "outputs": []
    },
    {
      "cell_type": "markdown",
      "source": [
        "- **Φτιάξτε ένα προγραμματάκι που θα κάνει τα εξής:**\n",
        "  - **θα τρέχει σε όλα τα ονόματα της λίστας**\n",
        "  - **θα χωρίζει το όνομα και θα αποθηκεύει το επίθετο σε μια μεταβλητή**\n",
        "  - **αν το επίθετο τελειώνει σε \"ς\" θα τυπώνει \"Αγαπητέ κύριε Μουρλά,\", ή \"Αγαπητέ κύριε Παρασκευά,\",**\n",
        "  - **αλλιώς θα τυπώνει \"Αγαπητή κυρία Σωτηράκου,\"**\n",
        "\n",
        "Tip: δηλαδή, αν το τελευταίο γράμμα του επιθέτου είναι \"ς\", θα τυπώνει το επίθετο από την αρχή έως και το προτελευταίο γράμμα, αλλιώς θα το τυπώνει ολόκληρο"
      ],
      "metadata": {
        "id": "g0VY3FBOiRhL"
      }
    },
    {
      "cell_type": "code",
      "source": [
        "for name in names:\n",
        "  fullname = name.split(\" \")\n",
        "  surname = fullname[-1]\n",
        "  if surname[-1] == \"ς\":\n",
        "        print(f\"Αγαπητέ κύριε {surname[:-1]},\")\n",
        "  else:\n",
        "        print(f\"Αγαπητή κυρία {surname},\")\n"
      ],
      "metadata": {
        "id": "_Ok9tpy3fr73",
        "colab": {
          "base_uri": "https://localhost:8080/"
        },
        "outputId": "973d492e-5262-4151-9f50-2e9ef0dcf9aa"
      },
      "execution_count": 37,
      "outputs": [
        {
          "output_type": "stream",
          "name": "stdout",
          "text": [
            "Αγαπητέ κύριε Μουρλά,\n",
            "Αγαπητή κυρία Σωτηράκου,\n",
            "Αγαπητέ κύριε Παρασκευά,\n"
          ]
        }
      ]
    },
    {
      "cell_type": "markdown",
      "source": [
        "\n",
        "\n",
        "---\n",
        "\n"
      ],
      "metadata": {
        "id": "aZlraIGimQX2"
      }
    },
    {
      "cell_type": "markdown",
      "source": [
        "### **ΑΣΚΗΣΗ 9**"
      ],
      "metadata": {
        "id": "xY0vu-Hjmwnt"
      }
    },
    {
      "cell_type": "markdown",
      "source": [
        "Η δομή if εκτός από το else, δέχεται και το elif (πριν το else)."
      ],
      "metadata": {
        "id": "o4yBD3_s3o90"
      }
    },
    {
      "cell_type": "code",
      "source": [
        "nums = [5, 0, -2]\n",
        "for num in nums:\n",
        "  if num == 0:   # αν ο αριθμός είναι 0\n",
        "    print(f\"ο αριθμός {num} δεν είναι ούτε θετικός ούτε αρνητικός\")\n",
        "  elif num > 0:  # αλλιώς αν ο αριθμός είναι μεγαλύτερος από το 0\n",
        "    print(f\"ο αριθμός {num} είναι θετικός\")\n",
        "  else:          # αλλιώς, (αν δεν ισχύει τίποτα από τα παραπάνω)\n",
        "    print(f\"ο αριθμός {num} είναι αρνητικός\")"
      ],
      "metadata": {
        "colab": {
          "base_uri": "https://localhost:8080/"
        },
        "id": "FZ5yBEMc36qy",
        "outputId": "f3d7f8f1-7222-4a44-e79a-35d0bc965eaa"
      },
      "execution_count": null,
      "outputs": [
        {
          "output_type": "stream",
          "name": "stdout",
          "text": [
            "ο αριθμός 5 είναι θετικός\n",
            "ο αριθμός 0 δεν είναι ούτε θετικός ούτε αρνητικός\n",
            "ο αριθμός -2 είναι αρνητικός\n"
          ]
        }
      ]
    },
    {
      "cell_type": "markdown",
      "source": [
        "Σημειώστε ότι το elif και το else είναι προαιρετικά στη δομή if."
      ],
      "metadata": {
        "id": "Ly_aNxVv5rZ2"
      }
    },
    {
      "cell_type": "markdown",
      "source": [
        "Επίσης, μπορούμε να έχουμε μια δομή if μέσα σε μια άλλη δομή if"
      ],
      "metadata": {
        "id": "e1yPO_MSTMqz"
      }
    },
    {
      "cell_type": "code",
      "source": [
        "nums = [5, 0, -2]\n",
        "for num in nums:\n",
        "  if num == 0:   # αν ο αριθμός είναι 0\n",
        "    print(f\"ο αριθμός {num} δεν είναι ούτε θετικός ούτε αρνητικός\")\n",
        "  else:          # αλλιώς, δηλαδή αν δεν είναι 0\n",
        "    if num > 0:  # αν ο αριθμός είναι μεγαλύτερος από το 0\n",
        "      print(f\"ο αριθμός {num} είναι θετικός\")\n",
        "    else:          # αλλιώς, (δηλαδή αν δεν είναι μεγαλύτερος από το 0)\n",
        "      print(f\"ο αριθμός {num} είναι αρνητικός\")"
      ],
      "metadata": {
        "id": "PXSpJir_TNRY"
      },
      "execution_count": null,
      "outputs": []
    },
    {
      "cell_type": "markdown",
      "source": [
        "- **Ο παραπάνω κώδικας που φτιάξατε (ο οποίος ελέγχει αν το τελευταίο γράμμα είναι \"ς\") δεν μπορεί να δουλέψει σωστά για κάθε πιθανό ελληνικό αντρικό επίθετο.**"
      ],
      "metadata": {
        "id": "6qPNkQgX3gih"
      }
    },
    {
      "cell_type": "markdown",
      "source": [
        "- **Προσθέστε στη λίστα των ονομάτων το \"Νίκος Παπαναστασίου\" και βρείτε έναν τρόπο ώστε ο κώδικας να δουλεύει σωστά και γι' αυτό το όνομα**\n",
        "\n",
        "Tip: τυπώστε τα περιεχόμενα της λίστας των ονομάτων μετά την προσθήκη του Παπαναστασίου παρατηρήστε καλά τα ονόματα και τα επίθετα. Χρησιμοποιήστε δύο δομές if (η μία θα εξετάζει τα μικρά ονόματα και η άλλη τα επίθετα), και βάλτε τη μία δομή μέσα στην άλλη."
      ],
      "metadata": {
        "id": "vPTvpLFG3lYw"
      }
    },
    {
      "cell_type": "code",
      "source": [],
      "metadata": {
        "id": "h9geZur6183w"
      },
      "execution_count": null,
      "outputs": []
    },
    {
      "cell_type": "code",
      "source": [],
      "metadata": {
        "id": "3wMmjA7apasV"
      },
      "execution_count": null,
      "outputs": []
    },
    {
      "cell_type": "code",
      "source": [],
      "metadata": {
        "id": "6Btuf9LM122O"
      },
      "execution_count": null,
      "outputs": []
    }
  ]
}